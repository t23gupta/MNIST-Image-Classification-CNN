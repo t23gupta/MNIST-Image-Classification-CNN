{
 "cells": [
  {
   "cell_type": "code",
   "execution_count": 215,
   "metadata": {},
   "outputs": [],
   "source": [
    "import torch\n",
    "import torchvision\n",
    "import torch.nn as nn\n",
    "import torch.optim as optim\n",
    "import torch.nn.functional as F\n",
    "from torchvision import datasets, transforms\n",
    "from matplotlib import pyplot as plt\n",
    "import random"
   ]
  },
  {
   "cell_type": "markdown",
   "metadata": {},
   "source": [
    "# Question 1"
   ]
  },
  {
   "cell_type": "markdown",
   "metadata": {},
   "source": [
    "## **Training Data**"
   ]
  },
  {
   "cell_type": "code",
   "execution_count": 281,
   "metadata": {},
   "outputs": [
    {
     "name": "stdout",
     "output_type": "stream",
     "text": [
      "600\n",
      "torch.Size([10, 1, 32, 32])\n",
      "torch.Size([10])\n"
     ]
    }
   ],
   "source": [
    "train_data = torchvision.datasets.MNIST(\"\", \n",
    "                                        train=True, \n",
    "                                        transform=torchvision.transforms.Compose([\n",
    "                                            torchvision.transforms.Resize((32,32)), \n",
    "                                            torchvision.transforms.ToTensor()]),\n",
    "                                        download=True)\n",
    "\n",
    "indices = random.sample(range(60000), 6000)\n",
    "train_data = torch.utils.data.Subset(train_data, indices)\n",
    "trainloader = torch.utils.data.DataLoader(train_data, batch_size=10, shuffle=True)\n",
    "dataiter = iter(trainloader)\n",
    "images, labels = dataiter.next()\n",
    "print(len(trainloader))\n",
    "print(images.shape)\n",
    "print(labels.shape)\n"
   ]
  },
  {
   "cell_type": "markdown",
   "metadata": {},
   "source": [
    "## **Building the Network**"
   ]
  },
  {
   "cell_type": "code",
   "execution_count": 282,
   "metadata": {},
   "outputs": [],
   "source": [
    "class Net(nn.Module):\n",
    "\n",
    "    def __init__(self):\n",
    "        super(Net, self).__init__()\n",
    "        # conv layers\n",
    "        self.conv1 = nn.Conv2d(in_channels=1, out_channels=64, kernel_size=3, stride=1, padding=1)\n",
    "        self.conv2 = nn.Conv2d(64, 128, 3, stride=1, padding=1)\n",
    "        self.conv3 = nn.Conv2d(128, 256, 3, stride=1, padding=1)\n",
    "        self.conv4 = nn.Conv2d(256, 256, 3, stride=1, padding=1)\n",
    "        self.conv5 = nn.Conv2d(256, 512, 3, stride=1, padding=1)\n",
    "        self.conv6 = nn.Conv2d(512, 512, 3, stride=1, padding=1)\n",
    "        self.conv7 = nn.Conv2d(512, 512, 3, stride=1, padding=1)\n",
    "        self.conv8 = nn.Conv2d(512, 512, 3, stride=1, padding=1)\n",
    "        # fc layers (linear transformation)\n",
    "        self.fc1 = nn.Linear(512, 4096)\n",
    "        self.fc2 = nn.Linear(4096, 4096)\n",
    "        self.fc3 = nn.Linear(4096, 10)\n",
    "        # batch normalization layers\n",
    "        self.batchnorm1 = nn.BatchNorm2d(64)\n",
    "        self.batchnorm2 = nn.BatchNorm2d(128)\n",
    "        self.batchnorm3 = nn.BatchNorm2d(256)\n",
    "        self.batchnorm4 = nn.BatchNorm2d(256)\n",
    "        self.batchnorm5 = nn.BatchNorm2d(512)\n",
    "        self.batchnorm6 = nn.BatchNorm2d(512)\n",
    "        self.batchnorm7 = nn.BatchNorm2d(512)\n",
    "        self.batchnorm8 = nn.BatchNorm2d(512)\n",
    "        # dropout layers\n",
    "        self.dropout1 = nn.Dropout(p=0.5)\n",
    "        self.dropout2 = nn.Dropout(p=0.5)\n",
    "        \n",
    "\n",
    "    def forward(self, x):\n",
    "        x = F.max_pool2d(F.relu(self.batchnorm1(self.conv1(x))), (2,2))\n",
    "        x = F.max_pool2d(F.relu(self.batchnorm2(self.conv2(x))), (2,2))\n",
    "        x = F.relu(self.batchnorm3(self.conv3(x)))\n",
    "        x = F.max_pool2d(F.relu(self.batchnorm4(self.conv4(x))), (2,2))\n",
    "        x = F.relu(self.batchnorm5(self.conv5(x)))\n",
    "        x = F.max_pool2d(F.relu(self.batchnorm6(self.conv6(x))), (2,2))\n",
    "        x = F.relu(self.batchnorm7(self.conv7(x)))\n",
    "        x = F.max_pool2d(F.relu(self.batchnorm8(self.conv8(x))), (2,2))\n",
    "        x = x.view(-1, self.num_flat_features(x))\n",
    "        x = self.dropout1(F.relu(self.fc1(x)))\n",
    "        x = self.dropout2(F.relu(self.fc2(x)))\n",
    "        x = self.fc3(x)\n",
    "        return x\n",
    "\n",
    "\n",
    "    def num_flat_features(self, x):\n",
    "        size = x.size()[1:]\n",
    "        num_features = 1\n",
    "        for s in size:\n",
    "            num_features *= s\n",
    "        return num_features\n",
    "\n",
    "\n",
    "net = Net()\n",
    "#print(net)"
   ]
  },
  {
   "cell_type": "code",
   "execution_count": 218,
   "metadata": {},
   "outputs": [
    {
     "name": "stdout",
     "output_type": "stream",
     "text": [
      "38\n"
     ]
    }
   ],
   "source": [
    "params = list(net.parameters())\n",
    "print(len(params))"
   ]
  },
  {
   "cell_type": "markdown",
   "metadata": {},
   "source": [
    "# Question 2 "
   ]
  },
  {
   "cell_type": "markdown",
   "metadata": {},
   "source": [
    "## **Training the Model** "
   ]
  },
  {
   "cell_type": "markdown",
   "metadata": {},
   "source": [
    "### Optimizer and Loss Function"
   ]
  },
  {
   "cell_type": "code",
   "execution_count": 283,
   "metadata": {},
   "outputs": [],
   "source": [
    "optimizer = optim.SGD(net.parameters(), lr=0.01, momentum=0.9)\n",
    "optimizer.zero_grad()\n",
    "criterion = nn.CrossEntropyLoss()"
   ]
  },
  {
   "cell_type": "markdown",
   "metadata": {},
   "source": [
    "### Training Over 5 Epochs to Get Training Loss, Training Accuracy and Test Accuracy"
   ]
  },
  {
   "cell_type": "code",
   "execution_count": 284,
   "metadata": {},
   "outputs": [
    {
     "name": "stdout",
     "output_type": "stream",
     "text": [
      "Epoch: 0 Training loss: 1.3013756577422222\n",
      "Number Of Training Images Tested = 600\n",
      "Model Train Accuracy = 0.7316666666666667\n",
      "Number Of Testing Images Tested = 1000\n",
      "Model Test Accuracy = 0.723\n",
      "Epoch: 1 Training loss: 0.48586861170983564\n",
      "Number Of Training Images Tested = 600\n",
      "Model Train Accuracy = 0.9283333333333333\n",
      "Number Of Testing Images Tested = 1000\n",
      "Model Test Accuracy = 0.928\n",
      "Epoch: 2 Training loss: 0.28821509850468524\n",
      "Number Of Training Images Tested = 600\n",
      "Model Train Accuracy = 0.9566666666666667\n",
      "Number Of Testing Images Tested = 1000\n",
      "Model Test Accuracy = 0.946\n",
      "Epoch: 3 Training loss: 0.220940824839181\n",
      "Number Of Training Images Tested = 600\n",
      "Model Train Accuracy = 0.9716666666666667\n",
      "Number Of Testing Images Tested = 1000\n",
      "Model Test Accuracy = 0.964\n",
      "Epoch: 4 Training loss: 0.17045644457975262\n",
      "Number Of Training Images Tested = 600\n",
      "Model Train Accuracy = 0.98\n",
      "Number Of Testing Images Tested = 1000\n",
      "Model Test Accuracy = 0.967\n"
     ]
    }
   ],
   "source": [
    "epochs = 5\n",
    "train_loss_list = []\n",
    "train_accuracy_list = []\n",
    "test_accuracy_list = []\n",
    "epochs_list = []\n",
    "\n",
    "for e in range(epochs):\n",
    "    running_loss = 0\n",
    "    for images, labels in trainloader:\n",
    "        optimizer.zero_grad()\n",
    "        output = net(images)\n",
    "        loss = criterion(output, labels)\n",
    "        loss.backward()\n",
    "        optimizer.step()\n",
    "        running_loss += float(loss.item())\n",
    "        #print(running_loss)\n",
    "    train_loss = running_loss/len(trainloader)\n",
    "    print(\"Epoch: \" + str(e) + \" Training loss: \" + str(train_loss))\n",
    "    train_loss_list.append(train_loss)\n",
    "    \n",
    "    \n",
    "    # Classification of train set - For accuracy check\n",
    "    correct_count, all_count = 0, 0\n",
    "    for images,labels in trainloader:\n",
    "        with torch.no_grad():\n",
    "            logps = net(images)\n",
    "\n",
    "        ps = torch.exp(logps)\n",
    "        probab = list(ps.numpy()[0])\n",
    "        pred_label = probab.index(max(probab))\n",
    "        true_label = labels.numpy()[i]\n",
    "        if(true_label == pred_label):\n",
    "            correct_count += 1\n",
    "        all_count += 1\n",
    "\n",
    "    accuracy = correct_count/all_count\n",
    "    print(\"Number Of Training Images Tested =\", all_count)\n",
    "    print(\"Model Train Accuracy =\", (accuracy))\n",
    "    train_accuracy_list.append(accuracy)\n",
    "    \n",
    "    # Classification of test set - For accuracy check\n",
    "    correct_count, all_count = 0, 0\n",
    "    for images,labels in testloader:\n",
    "        with torch.no_grad():\n",
    "            logps = net(images)\n",
    "\n",
    "        ps = torch.exp(logps)\n",
    "        probab = list(ps.numpy()[0])\n",
    "        pred_label = probab.index(max(probab))\n",
    "        true_label = labels.numpy()[i]\n",
    "        if(true_label == pred_label):\n",
    "            correct_count += 1\n",
    "        all_count += 1\n",
    "    accuracy = correct_count/all_count\n",
    "    print(\"Number Of Testing Images Tested =\", all_count)\n",
    "    print(\"Model Test Accuracy =\", (accuracy))\n",
    "    test_accuracy_list.append(accuracy)"
   ]
  },
  {
   "cell_type": "markdown",
   "metadata": {},
   "source": [
    "#### Training Loss vs Number of Epochs"
   ]
  },
  {
   "cell_type": "code",
   "execution_count": 200,
   "metadata": {},
   "outputs": [
    {
     "data": {
      "text/plain": [
       "Text(0.5,1,'Training Loss vs Number of Epochs')"
      ]
     },
     "execution_count": 200,
     "metadata": {},
     "output_type": "execute_result"
    },
    {
     "data": {
      "image/png": "[encoded data removed]",
      "text/plain": [
       "<Figure size 432x288 with 1 Axes>"
      ]
     },
     "metadata": {},
     "output_type": "display_data"
    }
   ],
   "source": [
    "plt.plot(range(1,6), train_loss_list)\n",
    "plt.xlabel('Epochs')\n",
    "plt.ylabel('Training Loss')\n",
    "plt.title('Training Loss vs Number of Epochs')"
   ]
  },
  {
   "cell_type": "markdown",
   "metadata": {},
   "source": [
    "#### Training Accuracy vs Number of Epochs"
   ]
  },
  {
   "cell_type": "code",
   "execution_count": 201,
   "metadata": {},
   "outputs": [
    {
     "data": {
      "text/plain": [
       "Text(0.5,1,'Training Accuracy vs Number of Epochs')"
      ]
     },
     "execution_count": 201,
     "metadata": {},
     "output_type": "execute_result"
    },
    {
     "data": {
      "image/png": "[encoded data removed]",
      "text/plain": [
       "<Figure size 432x288 with 1 Axes>"
      ]
     },
     "metadata": {},
     "output_type": "display_data"
    }
   ],
   "source": [
    "plt.plot(range(1,6), train_accuracy_list)\n",
    "plt.xlabel('Epochs')\n",
    "plt.ylabel('Training Accuracy')\n",
    "plt.title('Training Accuracy vs Number of Epochs')"
   ]
  },
  {
   "cell_type": "markdown",
   "metadata": {},
   "source": [
    "#### Test Accuracy vs Number of Epochs"
   ]
  },
  {
   "cell_type": "code",
   "execution_count": 202,
   "metadata": {},
   "outputs": [
    {
     "data": {
      "text/plain": [
       "Text(0.5,1,'Test Accuracy vs Number of Epochs')"
      ]
     },
     "execution_count": 202,
     "metadata": {},
     "output_type": "execute_result"
    },
    {
     "data": {
      "image/png": "[encoded data removed]",
      "text/plain": [
       "<Figure size 432x288 with 1 Axes>"
      ]
     },
     "metadata": {},
     "output_type": "display_data"
    }
   ],
   "source": [
    "plt.plot(range(1,6), test_accuracy_list)\n",
    "plt.xlabel('Epochs')\n",
    "plt.ylabel('Test Accuracy')\n",
    "plt.title('Test Accuracy vs Number of Epochs')"
   ]
  },
  {
   "cell_type": "markdown",
   "metadata": {},
   "source": [
    "### **Test Data**"
   ]
  },
  {
   "cell_type": "code",
   "execution_count": 172,
   "metadata": {},
   "outputs": [
    {
     "name": "stdout",
     "output_type": "stream",
     "text": [
      "1000\n",
      "torch.Size([10, 1, 32, 32])\n",
      "torch.Size([10])\n"
     ]
    }
   ],
   "source": [
    "test_data = torchvision.datasets.MNIST(\"\", \n",
    "                                        train=False, \n",
    "                                        transform=torchvision.transforms.Compose([\n",
    "                                            torchvision.transforms.Resize((32,32)), \n",
    "                                            torchvision.transforms.ToTensor()]),\n",
    "                                        download=True)\n",
    "\n",
    "testloader = torch.utils.data.DataLoader(test_data, batch_size=10, shuffle=True)\n",
    "dataiter = iter(testloader)\n",
    "images, labels = dataiter.next()\n",
    "print(len(testloader))\n",
    "print(images.shape)\n",
    "print(labels.shape)"
   ]
  },
  {
   "cell_type": "code",
   "execution_count": 186,
   "metadata": {},
   "outputs": [
    {
     "name": "stdout",
     "output_type": "stream",
     "text": [
      "1000\n",
      "Epoch: 0 Testing loss: 0.1578187227303031\n",
      "Epoch: 1 Testing loss: 0.10669285647801643\n",
      "Epoch: 2 Testing loss: 0.0809367215560178\n",
      "Epoch: 3 Testing loss: 0.06727546765166664\n",
      "Epoch: 4 Testing loss: 0.05282761856913811\n"
     ]
    }
   ],
   "source": [
    "epochs = 5\n",
    "test_loss_list = []\n",
    "epochs_list = []\n",
    "print(len(testloader))\n",
    "for e in range(epochs):\n",
    "    running_loss = 0\n",
    "    for images, labels in testloader:\n",
    "        optimizer.zero_grad()\n",
    "        output = net(images)\n",
    "        loss = criterion(output, labels)\n",
    "        loss.backward()\n",
    "        optimizer.step()\n",
    "        running_loss += float(loss.item())\n",
    "    test_loss = running_loss/len(testloader)\n",
    "    print(\"Epoch: \" + str(e) + \" Testing loss: \" + str(test_loss))\n",
    "    test_loss_list.append(test_loss)"
   ]
  },
  {
   "cell_type": "markdown",
   "metadata": {},
   "source": [
    "#### Test Loss vs Number of Epochs"
   ]
  },
  {
   "cell_type": "code",
   "execution_count": 189,
   "metadata": {},
   "outputs": [
    {
     "data": {
      "text/plain": [
       "Text(0.5,1,'Test Loss vs Number of Epochs')"
      ]
     },
     "execution_count": 189,
     "metadata": {},
     "output_type": "execute_result"
    },
    {
     "data": {
      "image/png": "[encoded data removed]",
      "text/plain": [
       "<Figure size 432x288 with 1 Axes>"
      ]
     },
     "metadata": {},
     "output_type": "display_data"
    }
   ],
   "source": [
    "plt.plot(range(1,6), test_loss_list)\n",
    "plt.xlabel('Epochs')\n",
    "plt.ylabel('Test Loss')\n",
    "plt.title('Test Loss vs Number of Epochs')"
   ]
  },
  {
   "cell_type": "code",
   "execution_count": null,
   "metadata": {},
   "outputs": [],
   "source": []
  },
  {
   "cell_type": "markdown",
   "metadata": {},
   "source": [
    "# Question 3"
   ]
  },
  {
   "cell_type": "markdown",
   "metadata": {},
   "source": [
    "### **Test Accuracy vs Type of Flip**"
   ]
  },
  {
   "cell_type": "markdown",
   "metadata": {},
   "source": [
    "#### No Flip"
   ]
  },
  {
   "cell_type": "code",
   "execution_count": 235,
   "metadata": {},
   "outputs": [
    {
     "name": "stdout",
     "output_type": "stream",
     "text": [
      "1000\n",
      "torch.Size([10, 1, 32, 32])\n",
      "torch.Size([10])\n"
     ]
    }
   ],
   "source": [
    "test_data = torchvision.datasets.MNIST(\"\", \n",
    "                                        train=False, \n",
    "                                        transform=torchvision.transforms.Compose([\n",
    "                                            torchvision.transforms.Resize((32,32)), \n",
    "                                            torchvision.transforms.ToTensor()]),\n",
    "                                        download=True)\n",
    "\n",
    "testloader = torch.utils.data.DataLoader(test_data, batch_size=10, shuffle=True)\n",
    "dataiter = iter(testloader)\n",
    "images, labels = dataiter.next()\n",
    "print(len(testloader))\n",
    "print(images.shape)\n",
    "print(labels.shape)"
   ]
  },
  {
   "cell_type": "code",
   "execution_count": 236,
   "metadata": {},
   "outputs": [
    {
     "name": "stdout",
     "output_type": "stream",
     "text": [
      "Number Of Images Tested = 1000\n",
      "Model Accuracy = 0.978\n"
     ]
    }
   ],
   "source": [
    "correct_count, all_count = 0, 0\n",
    "for images,labels in testloader:\n",
    "    with torch.no_grad():\n",
    "        logps = net(images)\n",
    "\n",
    "    ps = torch.exp(logps)\n",
    "    probab = list(ps.numpy()[0])\n",
    "    pred_label = probab.index(max(probab))\n",
    "    true_label = labels.numpy()[i]\n",
    "    if(true_label == pred_label):\n",
    "        correct_count += 1\n",
    "    all_count += 1\n",
    "\n",
    "print(\"Number Of Images Tested =\", all_count)\n",
    "print(\"Model Accuracy =\", (correct_count/all_count))"
   ]
  },
  {
   "cell_type": "markdown",
   "metadata": {},
   "source": [
    "#### Horizontal Flip"
   ]
  },
  {
   "cell_type": "code",
   "execution_count": 237,
   "metadata": {},
   "outputs": [
    {
     "name": "stdout",
     "output_type": "stream",
     "text": [
      "1000\n",
      "torch.Size([10, 1, 32, 32])\n",
      "torch.Size([10])\n"
     ]
    }
   ],
   "source": [
    "horiz_flipped_test_data = torchvision.datasets.MNIST(\"\", \n",
    "                                        train=False, \n",
    "                                        transform=torchvision.transforms.Compose([\n",
    "                                            torchvision.transforms.Resize((32,32)),\n",
    "                                            torchvision.transforms.RandomHorizontalFlip(p=1),\n",
    "                                            torchvision.transforms.ToTensor()]),\n",
    "                                        download=True)\n",
    "\n",
    "horiz_flipped_testloader = torch.utils.data.DataLoader(horiz_flipped_test_data, batch_size=10, shuffle=True)\n",
    "dataiter = iter(horiz_flipped_testloader)\n",
    "images, labels = dataiter.next()\n",
    "print(len(horiz_flipped_testloader))\n",
    "print(images.shape)\n",
    "print(labels.shape)"
   ]
  },
  {
   "cell_type": "code",
   "execution_count": 238,
   "metadata": {},
   "outputs": [
    {
     "name": "stdout",
     "output_type": "stream",
     "text": [
      "Number Of Images Tested = 1000\n",
      "Model Accuracy = 0.467\n"
     ]
    }
   ],
   "source": [
    "correct_count, all_count = 0, 0\n",
    "for images,labels in horiz_flipped_testloader:\n",
    "    with torch.no_grad():\n",
    "        logps = net(images)\n",
    "\n",
    "    ps = torch.exp(logps)\n",
    "    probab = list(ps.numpy()[0])\n",
    "    pred_label = probab.index(max(probab))\n",
    "    true_label = labels.numpy()[i]\n",
    "    if(true_label == pred_label):\n",
    "        correct_count += 1\n",
    "    all_count += 1\n",
    "\n",
    "print(\"Number Of Images Tested =\", all_count)\n",
    "print(\"Model Accuracy =\", (correct_count/all_count))"
   ]
  },
  {
   "cell_type": "markdown",
   "metadata": {},
   "source": [
    "#### Vertical Flip"
   ]
  },
  {
   "cell_type": "code",
   "execution_count": 239,
   "metadata": {},
   "outputs": [
    {
     "name": "stdout",
     "output_type": "stream",
     "text": [
      "1000\n",
      "torch.Size([10, 1, 32, 32])\n",
      "torch.Size([10])\n"
     ]
    }
   ],
   "source": [
    "vert_flipped_test_data = torchvision.datasets.MNIST(\"\", \n",
    "                                        train=False, \n",
    "                                        transform=torchvision.transforms.Compose([\n",
    "                                            torchvision.transforms.Resize((32,32)),\n",
    "                                            torchvision.transforms.RandomVerticalFlip(p=1),\n",
    "                                            torchvision.transforms.ToTensor()]),\n",
    "                                        download=True)\n",
    "\n",
    "vert_flipped_testloader = torch.utils.data.DataLoader(vert_flipped_test_data, batch_size=10, shuffle=True)\n",
    "dataiter = iter(vert_flipped_testloader)\n",
    "images, labels = dataiter.next()\n",
    "print(len(vert_flipped_testloader))\n",
    "print(images.shape)\n",
    "print(labels.shape)"
   ]
  },
  {
   "cell_type": "code",
   "execution_count": 240,
   "metadata": {},
   "outputs": [
    {
     "name": "stdout",
     "output_type": "stream",
     "text": [
      "Number Of Images Tested = 1000\n",
      "Model Accuracy = 0.356\n"
     ]
    }
   ],
   "source": [
    "correct_count, all_count = 0, 0\n",
    "for images,labels in vert_flipped_testloader:\n",
    "    with torch.no_grad():\n",
    "        logps = net(images)\n",
    "\n",
    "    ps = torch.exp(logps)\n",
    "    probab = list(ps.numpy()[0])\n",
    "    pred_label = probab.index(max(probab))\n",
    "    true_label = labels.numpy()[i]\n",
    "    if(true_label == pred_label):\n",
    "        correct_count += 1\n",
    "    all_count += 1\n",
    "\n",
    "print(\"Number Of Images Tested =\", all_count)\n",
    "print(\"Model Accuracy =\", (correct_count/all_count))"
   ]
  },
  {
   "cell_type": "markdown",
   "metadata": {},
   "source": [
    "### Gaussian Noise"
   ]
  },
  {
   "cell_type": "markdown",
   "metadata": {},
   "source": [
    "#### Variance = 0.01"
   ]
  },
  {
   "cell_type": "code",
   "execution_count": 241,
   "metadata": {},
   "outputs": [
    {
     "name": "stdout",
     "output_type": "stream",
     "text": [
      "1000\n",
      "torch.Size([10, 1, 32, 32])\n",
      "torch.Size([10])\n"
     ]
    }
   ],
   "source": [
    "gaussian_test_data = torchvision.datasets.MNIST(\"\", \n",
    "                                        train=False, \n",
    "                                        transform=torchvision.transforms.Compose([\n",
    "                                            torchvision.transforms.Resize((32,32)),\n",
    "                                            torchvision.transforms.ToTensor(),\n",
    "                                            torchvision.transforms.Lambda(lambda x : x + 0.1*torch.randn_like(x))]),\n",
    "                                        download=True)\n",
    "\n",
    "gaussian_testloader = torch.utils.data.DataLoader(gaussian_test_data, batch_size=10, shuffle=True)\n",
    "dataiter = iter(gaussian_testloader)\n",
    "images, labels = dataiter.next()\n",
    "print(len(gaussian_testloader))\n",
    "print(images.shape)\n",
    "print(labels.shape)"
   ]
  },
  {
   "cell_type": "code",
   "execution_count": 242,
   "metadata": {},
   "outputs": [
    {
     "name": "stdout",
     "output_type": "stream",
     "text": [
      "Number Of Images Tested = 1000\n",
      "Model Accuracy = 0.976\n"
     ]
    }
   ],
   "source": [
    "correct_count, all_count = 0, 0\n",
    "for images,labels in gaussian_testloader:\n",
    "    with torch.no_grad():\n",
    "        logps = net(images)\n",
    "\n",
    "    ps = torch.exp(logps)\n",
    "    probab = list(ps.numpy()[0])\n",
    "    pred_label = probab.index(max(probab))\n",
    "    true_label = labels.numpy()[i]\n",
    "    if(true_label == pred_label):\n",
    "        correct_count += 1\n",
    "    all_count += 1\n",
    "\n",
    "print(\"Number Of Images Tested =\", all_count)\n",
    "print(\"Model Accuracy =\", (correct_count/all_count))"
   ]
  },
  {
   "cell_type": "markdown",
   "metadata": {},
   "source": [
    "#### Variance = 0.1"
   ]
  },
  {
   "cell_type": "code",
   "execution_count": 231,
   "metadata": {},
   "outputs": [],
   "source": [
    "import math"
   ]
  },
  {
   "cell_type": "code",
   "execution_count": 243,
   "metadata": {},
   "outputs": [
    {
     "name": "stdout",
     "output_type": "stream",
     "text": [
      "1000\n",
      "torch.Size([10, 1, 32, 32])\n",
      "torch.Size([10])\n"
     ]
    }
   ],
   "source": [
    "gaussian_test_data = torchvision.datasets.MNIST(\"\", \n",
    "                                        train=False, \n",
    "                                        transform=torchvision.transforms.Compose([\n",
    "                                            torchvision.transforms.Resize((32,32)),\n",
    "                                            torchvision.transforms.ToTensor(),\n",
    "                                            torchvision.transforms.Lambda(lambda x : x + math.sqrt(0.1)*torch.randn_like(x))]),\n",
    "                                        download=True)\n",
    "\n",
    "gaussian_testloader = torch.utils.data.DataLoader(gaussian_test_data, batch_size=10, shuffle=True)\n",
    "dataiter = iter(gaussian_testloader)\n",
    "images, labels = dataiter.next()\n",
    "print(len(gaussian_testloader))\n",
    "print(images.shape)\n",
    "print(labels.shape)"
   ]
  },
  {
   "cell_type": "code",
   "execution_count": 244,
   "metadata": {},
   "outputs": [
    {
     "name": "stdout",
     "output_type": "stream",
     "text": [
      "Number Of Images Tested = 1000\n",
      "Model Accuracy = 0.957\n"
     ]
    }
   ],
   "source": [
    "correct_count, all_count = 0, 0\n",
    "for images,labels in gaussian_testloader:\n",
    "    with torch.no_grad():\n",
    "        logps = net(images)\n",
    "\n",
    "    ps = torch.exp(logps)\n",
    "    probab = list(ps.numpy()[0])\n",
    "    pred_label = probab.index(max(probab))\n",
    "    true_label = labels.numpy()[i]\n",
    "    if(true_label == pred_label):\n",
    "        correct_count += 1\n",
    "    all_count += 1\n",
    "\n",
    "print(\"Number Of Images Tested =\", all_count)\n",
    "print(\"Model Accuracy =\", (correct_count/all_count))"
   ]
  },
  {
   "cell_type": "markdown",
   "metadata": {},
   "source": [
    "#### Variance = 1"
   ]
  },
  {
   "cell_type": "code",
   "execution_count": 245,
   "metadata": {},
   "outputs": [
    {
     "name": "stdout",
     "output_type": "stream",
     "text": [
      "1000\n",
      "torch.Size([10, 1, 32, 32])\n",
      "torch.Size([10])\n"
     ]
    }
   ],
   "source": [
    "gaussian_test_data = torchvision.datasets.MNIST(\"\", \n",
    "                                        train=False, \n",
    "                                        transform=torchvision.transforms.Compose([\n",
    "                                            torchvision.transforms.Resize((32,32)),\n",
    "                                            torchvision.transforms.ToTensor(),\n",
    "                                            torchvision.transforms.Lambda(lambda x : x + 1*torch.randn_like(x))]),\n",
    "                                        download=True)\n",
    "\n",
    "gaussian_testloader = torch.utils.data.DataLoader(gaussian_test_data, batch_size=10, shuffle=True)\n",
    "dataiter = iter(gaussian_testloader)\n",
    "images, labels = dataiter.next()\n",
    "print(len(gaussian_testloader))\n",
    "print(images.shape)\n",
    "print(labels.shape)"
   ]
  },
  {
   "cell_type": "code",
   "execution_count": 246,
   "metadata": {},
   "outputs": [
    {
     "name": "stdout",
     "output_type": "stream",
     "text": [
      "Number Of Images Tested = 1000\n",
      "Model Accuracy = 0.62\n"
     ]
    }
   ],
   "source": [
    "correct_count, all_count = 0, 0\n",
    "for images,labels in gaussian_testloader:\n",
    "    with torch.no_grad():\n",
    "        logps = net(images)\n",
    "\n",
    "    ps = torch.exp(logps)\n",
    "    probab = list(ps.numpy()[0])\n",
    "    pred_label = probab.index(max(probab))\n",
    "    true_label = labels.numpy()[i]\n",
    "    if(true_label == pred_label):\n",
    "        correct_count += 1\n",
    "    all_count += 1\n",
    "\n",
    "print(\"Number Of Images Tested =\", all_count)\n",
    "print(\"Model Accuracy =\", (correct_count/all_count))"
   ]
  },
  {
   "cell_type": "markdown",
   "metadata": {},
   "source": [
    "# Question 4"
   ]
  },
  {
   "cell_type": "markdown",
   "metadata": {},
   "source": [
    "### Data Augmentation"
   ]
  },
  {
   "cell_type": "code",
   "execution_count": 274,
   "metadata": {},
   "outputs": [],
   "source": [
    "t1 = torchvision.transforms.RandomHorizontalFlip(p=0.5)\n",
    "t2 = torchvision.transforms.RandomVerticalFlip(p=0.5)\n",
    "t3 = torchvision.transforms.RandomRotation((-360, 360))\n",
    "transform_list = [t1, t2, t3]\n",
    "# t = torchvision.transforms.RandomApply(transform_list, p=0.5)"
   ]
  },
  {
   "cell_type": "code",
   "execution_count": 275,
   "metadata": {},
   "outputs": [
    {
     "name": "stdout",
     "output_type": "stream",
     "text": [
      "600\n",
      "torch.Size([10, 1, 32, 32])\n",
      "torch.Size([10])\n"
     ]
    }
   ],
   "source": [
    "train_data = torchvision.datasets.MNIST(\"\", \n",
    "                                        train=True, \n",
    "                                        transform=torchvision.transforms.Compose([\n",
    "                                            torchvision.transforms.Resize((32,32)),\n",
    "                                            torchvision.transforms.RandomApply(transform_list, p=0.5),\n",
    "                                            torchvision.transforms.ToTensor()]),\n",
    "                                        download=True)\n",
    "\n",
    "indices = random.sample(range(60000), 6000)\n",
    "train_data = torch.utils.data.Subset(train_data, indices)\n",
    "trainloader = torch.utils.data.DataLoader(train_data, batch_size=10, shuffle=True)\n",
    "dataiter = iter(trainloader)\n",
    "images, labels = dataiter.next()\n",
    "print(len(trainloader))\n",
    "print(images.shape)\n",
    "print(labels.shape)"
   ]
  },
  {
   "cell_type": "code",
   "execution_count": 276,
   "metadata": {},
   "outputs": [],
   "source": [
    "net2 = Net()"
   ]
  },
  {
   "cell_type": "code",
   "execution_count": 277,
   "metadata": {},
   "outputs": [],
   "source": [
    "optimizer = optim.SGD(net2.parameters(), lr=0.01, momentum=0.9)\n",
    "optimizer.zero_grad()\n",
    "criterion = nn.CrossEntropyLoss()"
   ]
  },
  {
   "cell_type": "markdown",
   "metadata": {},
   "source": [
    "### Training with Augmented Data"
   ]
  },
  {
   "cell_type": "code",
   "execution_count": 280,
   "metadata": {},
   "outputs": [
    {
     "name": "stdout",
     "output_type": "stream",
     "text": [
      "600\n",
      "Epoch: 0 Training loss: 0.8436879320442676\n",
      "Epoch: 1 Training loss: 0.6860234768191973\n",
      "Epoch: 2 Training loss: 0.6356791765925784\n",
      "Epoch: 3 Training loss: 0.5561868172946075\n",
      "Epoch: 4 Training loss: 0.48676801008948434\n"
     ]
    }
   ],
   "source": [
    "# time0 = time()\n",
    "epochs = 5\n",
    "train_loss_list = []\n",
    "train_accuracy_list = []\n",
    "test_accuracy_list = []\n",
    "epochs_list = []\n",
    "print(len(trainloader))\n",
    "for e in range(epochs):\n",
    "    running_loss = 0\n",
    "    for images, labels in trainloader:\n",
    "        optimizer.zero_grad()\n",
    "        output = net2(images)\n",
    "        loss = criterion(output, labels)\n",
    "        loss.backward()\n",
    "        optimizer.step()\n",
    "        running_loss += float(loss.item())\n",
    "        #print(running_loss)\n",
    "    train_loss = running_loss/len(trainloader)\n",
    "    print(\"Epoch: \" + str(e) + \" Training loss: \" + str(train_loss))\n",
    "    train_loss_list.append(train_loss)"
   ]
  },
  {
   "cell_type": "markdown",
   "metadata": {},
   "source": [
    "### Testing"
   ]
  },
  {
   "cell_type": "code",
   "execution_count": 255,
   "metadata": {},
   "outputs": [
    {
     "name": "stdout",
     "output_type": "stream",
     "text": [
      "1000\n",
      "torch.Size([10, 1, 32, 32])\n",
      "torch.Size([10])\n"
     ]
    }
   ],
   "source": [
    "test_data = torchvision.datasets.MNIST(\"\", \n",
    "                                        train=False, \n",
    "                                        transform=torchvision.transforms.Compose([\n",
    "                                            torchvision.transforms.Resize((32,32)), \n",
    "                                            torchvision.transforms.ToTensor()]),\n",
    "                                        download=True)\n",
    "\n",
    "testloader = torch.utils.data.DataLoader(test_data, batch_size=10, shuffle=True)\n",
    "dataiter = iter(testloader)\n",
    "images, labels = dataiter.next()\n",
    "print(len(testloader))\n",
    "print(images.shape)\n",
    "print(labels.shape)"
   ]
  },
  {
   "cell_type": "code",
   "execution_count": 261,
   "metadata": {},
   "outputs": [
    {
     "name": "stdout",
     "output_type": "stream",
     "text": [
      "Number Of Images Tested = 1000\n",
      "Model Accuracy = 0.883\n"
     ]
    }
   ],
   "source": [
    "correct_count, all_count = 0, 0\n",
    "for images,labels in testloader:\n",
    "    with torch.no_grad():\n",
    "        logps = net2(images)\n",
    "\n",
    "    ps = torch.exp(logps)\n",
    "    probab = list(ps.numpy()[0])\n",
    "    pred_label = probab.index(max(probab))\n",
    "    true_label = labels.numpy()[i]\n",
    "    if(true_label == pred_label):\n",
    "        correct_count += 1\n",
    "    all_count += 1\n",
    "\n",
    "print(\"Number Of Images Tested =\", all_count)\n",
    "print(\"Model Accuracy =\", (correct_count/all_count))"
   ]
  },
  {
   "cell_type": "markdown",
   "metadata": {},
   "source": [
    "#### Horizontal Flip"
   ]
  },
  {
   "cell_type": "code",
   "execution_count": 262,
   "metadata": {},
   "outputs": [
    {
     "name": "stdout",
     "output_type": "stream",
     "text": [
      "1000\n",
      "torch.Size([10, 1, 32, 32])\n",
      "torch.Size([10])\n"
     ]
    }
   ],
   "source": [
    "horiz_flipped_test_data = torchvision.datasets.MNIST(\"\", \n",
    "                                        train=False, \n",
    "                                        transform=torchvision.transforms.Compose([\n",
    "                                            torchvision.transforms.Resize((32,32)),\n",
    "                                            torchvision.transforms.RandomHorizontalFlip(p=1),\n",
    "                                            torchvision.transforms.ToTensor()]),\n",
    "                                        download=True)\n",
    "\n",
    "horiz_flipped_testloader = torch.utils.data.DataLoader(horiz_flipped_test_data, batch_size=10, shuffle=True)\n",
    "dataiter = iter(horiz_flipped_testloader)\n",
    "images, labels = dataiter.next()\n",
    "print(len(horiz_flipped_testloader))\n",
    "print(images.shape)\n",
    "print(labels.shape)"
   ]
  },
  {
   "cell_type": "code",
   "execution_count": 263,
   "metadata": {},
   "outputs": [
    {
     "name": "stdout",
     "output_type": "stream",
     "text": [
      "Number Of Images Tested = 1000\n",
      "Model Accuracy = 0.618\n"
     ]
    }
   ],
   "source": [
    "correct_count, all_count = 0, 0\n",
    "for images,labels in horiz_flipped_testloader:\n",
    "    with torch.no_grad():\n",
    "        logps = net2(images)\n",
    "\n",
    "    ps = torch.exp(logps)\n",
    "    probab = list(ps.numpy()[0])\n",
    "    pred_label = probab.index(max(probab))\n",
    "    true_label = labels.numpy()[i]\n",
    "    if(true_label == pred_label):\n",
    "        correct_count += 1\n",
    "    all_count += 1\n",
    "\n",
    "print(\"Number Of Images Tested =\", all_count)\n",
    "print(\"Model Accuracy =\", (correct_count/all_count))"
   ]
  },
  {
   "cell_type": "markdown",
   "metadata": {},
   "source": [
    "#### Vertical Flip"
   ]
  },
  {
   "cell_type": "code",
   "execution_count": 264,
   "metadata": {},
   "outputs": [
    {
     "name": "stdout",
     "output_type": "stream",
     "text": [
      "1000\n",
      "torch.Size([10, 1, 32, 32])\n",
      "torch.Size([10])\n"
     ]
    }
   ],
   "source": [
    "vert_flipped_test_data = torchvision.datasets.MNIST(\"\", \n",
    "                                        train=False, \n",
    "                                        transform=torchvision.transforms.Compose([\n",
    "                                            torchvision.transforms.Resize((32,32)),\n",
    "                                            torchvision.transforms.RandomVerticalFlip(p=1),\n",
    "                                            torchvision.transforms.ToTensor()]),\n",
    "                                        download=True)\n",
    "\n",
    "vert_flipped_testloader = torch.utils.data.DataLoader(vert_flipped_test_data, batch_size=10, shuffle=True)\n",
    "dataiter = iter(vert_flipped_testloader)\n",
    "images, labels = dataiter.next()\n",
    "print(len(vert_flipped_testloader))\n",
    "print(images.shape)\n",
    "print(labels.shape)"
   ]
  },
  {
   "cell_type": "code",
   "execution_count": 265,
   "metadata": {},
   "outputs": [
    {
     "name": "stdout",
     "output_type": "stream",
     "text": [
      "Number Of Images Tested = 1000\n",
      "Model Accuracy = 0.667\n"
     ]
    }
   ],
   "source": [
    "correct_count, all_count = 0, 0\n",
    "for images,labels in vert_flipped_testloader:\n",
    "    with torch.no_grad():\n",
    "        logps = net2(images)\n",
    "\n",
    "    ps = torch.exp(logps)\n",
    "    probab = list(ps.numpy()[0])\n",
    "    pred_label = probab.index(max(probab))\n",
    "    true_label = labels.numpy()[i]\n",
    "    if(true_label == pred_label):\n",
    "        correct_count += 1\n",
    "    all_count += 1\n",
    "\n",
    "print(\"Number Of Images Tested =\", all_count)\n",
    "print(\"Model Accuracy =\", (correct_count/all_count))"
   ]
  },
  {
   "cell_type": "markdown",
   "metadata": {},
   "source": [
    "#### Gaussian Noise - Variance 0.01"
   ]
  },
  {
   "cell_type": "code",
   "execution_count": 266,
   "metadata": {},
   "outputs": [
    {
     "name": "stdout",
     "output_type": "stream",
     "text": [
      "1000\n",
      "torch.Size([10, 1, 32, 32])\n",
      "torch.Size([10])\n"
     ]
    }
   ],
   "source": [
    "gaussian_test_data = torchvision.datasets.MNIST(\"\", \n",
    "                                        train=False, \n",
    "                                        transform=torchvision.transforms.Compose([\n",
    "                                            torchvision.transforms.Resize((32,32)),\n",
    "                                            torchvision.transforms.ToTensor(),\n",
    "                                            torchvision.transforms.Lambda(lambda x : x + 0.1*torch.randn_like(x))]),\n",
    "                                        download=True)\n",
    "\n",
    "gaussian_testloader = torch.utils.data.DataLoader(gaussian_test_data, batch_size=10, shuffle=True)\n",
    "dataiter = iter(gaussian_testloader)\n",
    "images, labels = dataiter.next()\n",
    "print(len(gaussian_testloader))\n",
    "print(images.shape)\n",
    "print(labels.shape)"
   ]
  },
  {
   "cell_type": "code",
   "execution_count": 267,
   "metadata": {},
   "outputs": [
    {
     "name": "stdout",
     "output_type": "stream",
     "text": [
      "Number Of Images Tested = 1000\n",
      "Model Accuracy = 0.891\n"
     ]
    }
   ],
   "source": [
    "correct_count, all_count = 0, 0\n",
    "for images,labels in gaussian_testloader:\n",
    "    with torch.no_grad():\n",
    "        logps = net2(images)\n",
    "\n",
    "    ps = torch.exp(logps)\n",
    "    probab = list(ps.numpy()[0])\n",
    "    pred_label = probab.index(max(probab))\n",
    "    true_label = labels.numpy()[i]\n",
    "    if(true_label == pred_label):\n",
    "        correct_count += 1\n",
    "    all_count += 1\n",
    "\n",
    "print(\"Number Of Images Tested =\", all_count)\n",
    "print(\"Model Accuracy =\", (correct_count/all_count))"
   ]
  },
  {
   "cell_type": "markdown",
   "metadata": {},
   "source": [
    "#### Gaussian Noise - Variance 0.1"
   ]
  },
  {
   "cell_type": "code",
   "execution_count": 268,
   "metadata": {},
   "outputs": [
    {
     "name": "stdout",
     "output_type": "stream",
     "text": [
      "1000\n",
      "torch.Size([10, 1, 32, 32])\n",
      "torch.Size([10])\n"
     ]
    }
   ],
   "source": [
    "gaussian_test_data = torchvision.datasets.MNIST(\"\", \n",
    "                                        train=False, \n",
    "                                        transform=torchvision.transforms.Compose([\n",
    "                                            torchvision.transforms.Resize((32,32)),\n",
    "                                            torchvision.transforms.ToTensor(),\n",
    "                                            torchvision.transforms.Lambda(lambda x : x + math.sqrt(0.1)*torch.randn_like(x))]),\n",
    "                                        download=True)\n",
    "\n",
    "gaussian_testloader = torch.utils.data.DataLoader(gaussian_test_data, batch_size=10, shuffle=True)\n",
    "dataiter = iter(gaussian_testloader)\n",
    "images, labels = dataiter.next()\n",
    "print(len(gaussian_testloader))\n",
    "print(images.shape)\n",
    "print(labels.shape)"
   ]
  },
  {
   "cell_type": "code",
   "execution_count": 269,
   "metadata": {},
   "outputs": [
    {
     "name": "stdout",
     "output_type": "stream",
     "text": [
      "Number Of Images Tested = 1000\n",
      "Model Accuracy = 0.84\n"
     ]
    }
   ],
   "source": [
    "correct_count, all_count = 0, 0\n",
    "for images,labels in gaussian_testloader:\n",
    "    with torch.no_grad():\n",
    "        logps = net2(images)\n",
    "\n",
    "    ps = torch.exp(logps)\n",
    "    probab = list(ps.numpy()[0])\n",
    "    pred_label = probab.index(max(probab))\n",
    "    true_label = labels.numpy()[i]\n",
    "    if(true_label == pred_label):\n",
    "        correct_count += 1\n",
    "    all_count += 1\n",
    "\n",
    "print(\"Number Of Images Tested =\", all_count)\n",
    "print(\"Model Accuracy =\", (correct_count/all_count))"
   ]
  },
  {
   "cell_type": "markdown",
   "metadata": {},
   "source": [
    "#### Gaussian Noise - Variance 1"
   ]
  },
  {
   "cell_type": "code",
   "execution_count": 270,
   "metadata": {},
   "outputs": [
    {
     "name": "stdout",
     "output_type": "stream",
     "text": [
      "1000\n",
      "torch.Size([10, 1, 32, 32])\n",
      "torch.Size([10])\n"
     ]
    }
   ],
   "source": [
    "gaussian_test_data = torchvision.datasets.MNIST(\"\", \n",
    "                                        train=False, \n",
    "                                        transform=torchvision.transforms.Compose([\n",
    "                                            torchvision.transforms.Resize((32,32)),\n",
    "                                            torchvision.transforms.ToTensor(),\n",
    "                                            torchvision.transforms.Lambda(lambda x : x + 1*torch.randn_like(x))]),\n",
    "                                        download=True)\n",
    "\n",
    "gaussian_testloader = torch.utils.data.DataLoader(gaussian_test_data, batch_size=10, shuffle=True)\n",
    "dataiter = iter(gaussian_testloader)\n",
    "images, labels = dataiter.next()\n",
    "print(len(gaussian_testloader))\n",
    "print(images.shape)\n",
    "print(labels.shape)"
   ]
  },
  {
   "cell_type": "code",
   "execution_count": 273,
   "metadata": {},
   "outputs": [
    {
     "name": "stdout",
     "output_type": "stream",
     "text": [
      "Number Of Images Tested = 1000\n",
      "Model Accuracy = 0.539\n"
     ]
    }
   ],
   "source": [
    "correct_count, all_count = 0, 0\n",
    "for images,labels in gaussian_testloader:\n",
    "    with torch.no_grad():\n",
    "        logps = net2(images)\n",
    "\n",
    "    ps = torch.exp(logps)\n",
    "    probab = list(ps.numpy()[0])\n",
    "    pred_label = probab.index(max(probab))\n",
    "    true_label = labels.numpy()[i]\n",
    "    if(true_label == pred_label):\n",
    "        correct_count += 1\n",
    "    all_count += 1\n",
    "\n",
    "print(\"Number Of Images Tested =\", all_count)\n",
    "print(\"Model Accuracy =\", (correct_count/all_count))"
   ]
  }
 ],
 "metadata": {
  "kernelspec": {
   "display_name": "Python 3",
   "language": "python",
   "name": "python3"
  },
  "language_info": {
   "codemirror_mode": {
    "name": "ipython",
    "version": 3
   },
   "file_extension": ".py",
   "mimetype": "text/x-python",
   "name": "python",
   "nbconvert_exporter": "python",
   "pygments_lexer": "ipython3",
   "version": "3.6.5"
  }
 },
 "nbformat": 4,
 "nbformat_minor": 2
}
